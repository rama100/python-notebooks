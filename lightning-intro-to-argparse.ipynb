{
 "cells": [
   {
   "cell_type": "markdown",
   "id": "263d6154",
   "metadata": {
    "colab_type": "text",
    "id": "view-in-github"
   },
   "source": [
    "<a href=\"https://colab.research.google.com/github/rama100/python-notebooks/blob/main/lightning-intro-to-argparse.ipynb\" target=\"_parent\"><img src=\"https://colab.research.google.com/assets/colab-badge.svg\" alt=\"Open In Colab\"/></a>"
   ]
  },
  {
   "cell_type": "markdown",
   "id": "04db8e52-7c50-4d5d-af4c-a0e6aac791e9",
   "metadata": {},
   "source": [
    "# Easily process arguments for your command-line script with `argparse`"
   ]
  },
  {
   "cell_type": "markdown",
   "id": "b13c27df-fbca-4cfb-a8f9-93d89252c260",
   "metadata": {},
   "source": [
    "**Author**: [Rama Ramakrishnan](https://ramakrishnan.com)"
   ]
  },
  {
   "cell_type": "markdown",
   "id": "226077d6-2ae7-47bb-8cb2-f6387fb25f66",
   "metadata": {
    "jp-MarkdownHeadingCollapsed": true
   },
   "source": [
    "You have written a nice Python script that can be run on the command-line. It expects a bunch of arguments. Inside the script, you need to \"receive\" these arguments and do things with them. \n",
    "\n",
    "`argparse` is a Python module that makes this \"receiving\" easy. \n",
    "\n",
    "I will use the following example to demonstrate. I will assume that your script expects four arguments as shown below.\n",
    "\n",
    "```\n",
    "python your_script.py \\\n",
    " --model gpt-4o \\\n",
    " --temperature 0.0 \\\n",
    " --prompt \"hello world\" \\\n",
    " --open_api_key sk ... \n",
    "```\n",
    "\n",
    "Note: `argparse` can do all kinds of cool things and the official [tutorial](https://docs.python.org/3/howto/argparse.html) is a wonderful resource to learn about these things. But for a common use-case like the one above, you just need to know the bare minimum. Let's go!!\n"
   ]
  },
  {
   "cell_type": "markdown",
   "id": "0f4364ee-3675-44e5-b3d2-fd15b8d744f2",
   "metadata": {},
   "source": [
    "**Step 0**: Import it.\n",
    "\n",
    "```\n",
    "import argparse\n",
    "```"
   ]
  },
  {
   "cell_type": "markdown",
   "id": "bc74332e-a6c7-40a6-8a45-a0dd2f7ff0a6",
   "metadata": {},
   "source": [
    "**Step 1**: Create an `ArgumentParser` object with a helpful description.\n",
    "\n",
    "```\n",
    "parser = argparse.ArgumentParser(\"python my_script.py\")\n",
    "```"
   ]
  },
  {
   "cell_type": "markdown",
   "id": "4121e3f6-0fea-43d2-8055-df8732155543",
   "metadata": {},
   "source": [
    "**Step 2**: Add arguments one by one with the `add_argument` method. Since our example above has 4 arguments, we will do this 4 times.\n",
    "\n",
    "```\n",
    "parser.add_argument(\"--model\", \n",
    "                    type=str, \n",
    "                    default=\"gpt-4o-mini\",\n",
    "                    help=\"the OPENAI model you want the script to use\")\n",
    "parser.add_argument(\"--prompt\", \n",
    "                    type=str, \n",
    "                    default=\"The cat sat on the \",\n",
    "                    help=\"the prompt you want to pass into the model\")\n",
    "parser.add_argument(\"--openai_api_key\", \n",
    "                    type=str, \n",
    "                    required=True,\n",
    "                    help=\"Your API access key\")\n",
    "parser.add_argument(\"--temperature\", \n",
    "                    type=float, \n",
    "                    default=0.0,\n",
    "                    help=\"Closer to 1.0 for creative, closer to 0.0 for deterministic\")\n",
    "```\n",
    "\n",
    "In each line:\n",
    "* the first parameter e.g., `--model` names the argument \n",
    "* `type` denotes the type of argument. The first three arguments are `str` and the last one - `temperature` - is `float`\n",
    "* you can specify a `default` value. I have done so for 3 of the 4 arguments.\n",
    "* you can indicate that an argument MUST be supplied with `required=True`. I have done so for the \"--openai_api_key\" argument.\n",
    "* you can provide an optional `help` string. This will get printed out if the user makes a mistake or wants help.\n"
   ]
  },
  {
   "cell_type": "markdown",
   "id": "d22ba0ac-c01e-41b6-b706-6000fa4e6735",
   "metadata": {},
   "source": [
    "**Step 3**: Finally, we add this line to the script. \n",
    "\n",
    "```\n",
    "args = parser.parse_args()\n",
    "```\n",
    "\n",
    "This line does the heavy lifting: it grabs all the arguments typed by the user and puts in the right places in the `args` object. \n",
    "\n",
    "The `args` object will have attributes that exactly match the arguments:\n",
    "* `model`\n",
    "* `prompt`\n",
    "* `openai_api_key`\n",
    "* `temperature`\n",
    "\n",
    "The **values** of these attributes will be set to what the user typed in for the arguments. \n",
    "\n",
    "With `args` in hand, you can do **whatever you want** in your code. As a concrete example, I will simply print out the attributes of `args`.\n",
    "\n",
    "```\n",
    "d_args = vars(args)\n",
    "for k,v in d_args.items():\n",
    "    print(f\"Name: {k}, Value: {v}\")\n",
    "```"
   ]
  },
  {
   "cell_type": "markdown",
   "id": "49612df1-761f-40c7-b5a8-7a29ba5e4a8a",
   "metadata": {},
   "source": [
    "OK, let's collect all the lines above into a script called `my_script.py`. "
   ]
  },
  {
   "cell_type": "code",
   "execution_count": 1,
   "id": "62ea2fe3-0557-455c-9673-5fdbfae3982b",
   "metadata": {},
   "outputs": [
    {
     "name": "stdout",
     "output_type": "stream",
     "text": [
      "Overwriting my_script.py\n"
     ]
    }
   ],
   "source": [
    "%%writefile my_script.py\n",
    "import argparse\n",
    "parser = argparse.ArgumentParser(\"python my_script.py\")\n",
    "parser.add_argument(\"--model\", \n",
    "                    type=str, \n",
    "                    default=\"gpt-4o-mini\",\n",
    "                    help=\"the OPENAI model you want the script to use\")\n",
    "parser.add_argument(\"--prompt\", \n",
    "                    type=str, \n",
    "                    default=\"The cat sat on the \",\n",
    "                    help=\"the prompt you want to pass into the model\")\n",
    "parser.add_argument(\"--openai_api_key\", \n",
    "                    type=str, \n",
    "                    required=True,\n",
    "                    help=\"Your API access key\")\n",
    "parser.add_argument(\"--temperature\", \n",
    "                    type=float, \n",
    "                    default=0.0,\n",
    "                    help=\"Closer to 1.0 for creative, closer to 0.0 for deterministic\")\n",
    "args = parser.parse_args()\n",
    "\n",
    "\n",
    "d_args = vars(args)\n",
    "for k,v in d_args.items():\n",
    "    print(f\"Name: {k}, Value: {v}\")"
   ]
  },
  {
   "cell_type": "markdown",
   "id": "f37a7232-1d0d-4ce4-8e97-9a3ef4fc2161",
   "metadata": {},
   "source": [
    "OK, let's try running it as a user."
   ]
  },
  {
   "cell_type": "code",
   "execution_count": 2,
   "id": "551d8c5f-cbc5-4fab-979e-a2d2489e92fd",
   "metadata": {},
   "outputs": [
    {
     "name": "stdout",
     "output_type": "stream",
     "text": [
      "Name: model, Value: gpt-4.5\n",
      "Name: prompt, Value: what is the capital of paris\n",
      "Name: openai_api_key, Value: test key\n",
      "Name: temperature, Value: 0.8\n"
     ]
    }
   ],
   "source": [
    "!python3 my_script.py \\\n",
    " --model gpt-4.5 \\\n",
    " --prompt \"what is the capital of paris\" \\\n",
    " --openai_api_key 'test key' \\\n",
    " --temperature 0.8"
   ]
  },
  {
   "cell_type": "markdown",
   "id": "96c65a84-edf3-44ec-8a59-38da3cedb67d",
   "metadata": {},
   "source": [
    "As promised, the `args` object: \n",
    "* has 4 attributes\n",
    "* the names of the attributes are the argument names\n",
    "* the values are what we passed in for those arguments when we ran the script"
   ]
  },
  {
   "cell_type": "markdown",
   "id": "161f0c7d-1f52-49d2-8dbd-4c10783fecc6",
   "metadata": {},
   "source": [
    "Another example: Just for fun, let's say we just want to print out the value of the `temperature` argument 5 times, but increasing it by 10 each time.\n",
    "\n",
    "We will add the following code snippet to our script:\n",
    "```\n",
    "for i in range(5):\n",
    "    print(f\"The value of temperature is {args.temperature + (10 * i)}\")\n",
    "```"
   ]
  },
  {
   "cell_type": "code",
   "execution_count": 3,
   "id": "371ad390-c6fb-47fb-9370-24a2a39301db",
   "metadata": {},
   "outputs": [
    {
     "name": "stdout",
     "output_type": "stream",
     "text": [
      "Overwriting my_script.py\n"
     ]
    }
   ],
   "source": [
    "%%writefile my_script.py\n",
    "import argparse\n",
    "parser = argparse.ArgumentParser(\"python my_script.py\")\n",
    "parser.add_argument(\"--model\", \n",
    "                    type=str, \n",
    "                    default=\"gpt-4o-mini\",\n",
    "                    help=\"the OPENAI model you want the script to use\")\n",
    "parser.add_argument(\"--prompt\", \n",
    "                    type=str, \n",
    "                    default=\"The cat sat on the \",\n",
    "                    help=\"the prompt you want to pass into the model\")\n",
    "parser.add_argument(\"--openai_api_key\", \n",
    "                    type=str, \n",
    "                    required=True,\n",
    "                    help=\"Your API access key\")\n",
    "parser.add_argument(\"--temperature\", \n",
    "                    type=float, \n",
    "                    default=0.0)\n",
    "args = parser.parse_args()\n",
    "\n",
    "d_args = vars(args)\n",
    "for k,v in d_args.items():\n",
    "    print(f\"Name: {k}, Value: {v}\")\n",
    "for i in range(5):\n",
    "    print(f\"The value of temperature is {args.temperature + (10 * i)}\")\n"
   ]
  },
  {
   "cell_type": "markdown",
   "id": "4e65b838-accc-456e-951e-936a213c0655",
   "metadata": {},
   "source": [
    "Let's run it again."
   ]
  },
  {
   "cell_type": "code",
   "execution_count": 4,
   "id": "4f34aa84-9c36-46b8-9a60-c5f142628300",
   "metadata": {},
   "outputs": [
    {
     "name": "stdout",
     "output_type": "stream",
     "text": [
      "Name: model, Value: gpt-4.5\n",
      "Name: prompt, Value: what is the capital of paris\n",
      "Name: openai_api_key, Value: test key\n",
      "Name: temperature, Value: 0.8\n",
      "The value of temperature is 0.8\n",
      "The value of temperature is 10.8\n",
      "The value of temperature is 20.8\n",
      "The value of temperature is 30.8\n",
      "The value of temperature is 40.8\n"
     ]
    }
   ],
   "source": [
    "!python3 my_script.py \\\n",
    " --model gpt-4.5 \\\n",
    " --prompt \"what is the capital of paris\" \\\n",
    " --openai_api_key 'test key' \\\n",
    " --temperature 0.8"
   ]
  },
  {
   "cell_type": "markdown",
   "id": "15f6e3e7-7d72-4e20-bf99-827afa99dfb5",
   "metadata": {},
   "source": [
    "----\n",
    "\n",
    "**Bottomline: you can process the attributes of `args` any way you want.**\n",
    "\n",
    "----\n",
    "\n",
    "Next, let's talk about what is probably `argparse`'s biggest benefit: if the user makes a mistake with the arguments, `argparse` will catch it and warn the user. You don't have to deal with this inside your script.\n",
    "\n",
    "\n",
    "To demonstrate, let's see what happens if the user doesn't supply the `required` OPENAI_API_KEY argument."
   ]
  },
  {
   "cell_type": "code",
   "execution_count": 5,
   "id": "75f51ce4-e669-4a50-9051-7463452441db",
   "metadata": {},
   "outputs": [
    {
     "name": "stdout",
     "output_type": "stream",
     "text": [
      "usage: python my_script.py [-h] [--model MODEL] [--prompt PROMPT]\n",
      "                           --openai_api_key OPENAI_API_KEY\n",
      "                           [--temperature TEMPERATURE]\n",
      "python my_script.py: error: the following arguments are required: --openai_api_key\n"
     ]
    }
   ],
   "source": [
    "!python3 my_script.py \\\n",
    " --model gpt-4.5 \\\n",
    " --prompt \"what is the capital of paris\" \\\n",
    " --temperature 0.8"
   ]
  },
  {
   "cell_type": "markdown",
   "id": "4a1fc2d2-b6c3-4b59-9373-e4589a83abd9",
   "metadata": {},
   "source": [
    "Notice this line:\n",
    ">error: the following arguments are required: --openai_api_key\n",
    "\n",
    "Also, there's a helpful 'usage' message."
   ]
  },
  {
   "cell_type": "markdown",
   "id": "9ac0a10f-1b4f-457d-8f76-a77e52964774",
   "metadata": {},
   "source": [
    "----\n",
    "What if the user uses the wrong **type** of input? Let's see what happens if the user types in text rather than a number for the `temperature` argument."
   ]
  },
  {
   "cell_type": "code",
   "execution_count": 6,
   "id": "3137aec2-2abb-4b72-90a6-461de753e045",
   "metadata": {},
   "outputs": [
    {
     "name": "stdout",
     "output_type": "stream",
     "text": [
      "usage: python my_script.py [-h] [--model MODEL] [--prompt PROMPT]\n",
      "                           --openai_api_key OPENAI_API_KEY\n",
      "                           [--temperature TEMPERATURE]\n",
      "python my_script.py: error: argument --temperature: invalid float value: 'rama'\n"
     ]
    }
   ],
   "source": [
    "!python3 my_script.py \\\n",
    " --model gpt-4.5 \\\n",
    " --prompt \"what is the capital of paris\" \\\n",
    " --openai_api_key 'test key' \\\n",
    " --temperature rama"
   ]
  },
  {
   "cell_type": "markdown",
   "id": "8102659d-6c41-4023-8a5a-ad88a4272887",
   "metadata": {},
   "source": [
    " `argparse` has caught the error. Notice this line:\n",
    " >error: argument --temperature: invalid float value: 'rama'"
   ]
  },
  {
   "cell_type": "markdown",
   "id": "2d8ac04d-453c-441a-89a5-ca70105a9db6",
   "metadata": {},
   "source": [
    "----\n",
    "Another example: The user uses a name that doesn't match any of the 4 arguments we specified. Instead of `prompt`, we will say `question`."
   ]
  },
  {
   "cell_type": "code",
   "execution_count": 213,
   "id": "ddf811b3-eb8a-40ce-8d1c-a7c116f59831",
   "metadata": {},
   "outputs": [
    {
     "name": "stdout",
     "output_type": "stream",
     "text": [
      "usage: python my_script.py [-h] [--model MODEL] [--prompt PROMPT]\n",
      "                           --openai_api_key OPENAI_API_KEY\n",
      "                           [--temperature TEMPERATURE]\n",
      "python my_script.py: error: unrecognized arguments: --question what is the capital of paris\n"
     ]
    }
   ],
   "source": [
    "!python3 my_script.py \\\n",
    " --model gpt-4.5 \\\n",
    " --question \"what is the capital of paris\" \\\n",
    " --openai_api_key 'test key' \\\n",
    " --temperature 0.8"
   ]
  },
  {
   "cell_type": "markdown",
   "id": "21ee7e35-3318-4634-b6c0-57e1787b58eb",
   "metadata": {},
   "source": [
    "`argparse` has caught the error. Notice this line:\n",
    " >error: error: unrecognized arguments: --question what is the capital of paris"
   ]
  },
  {
   "cell_type": "markdown",
   "id": "58312312-cc0a-431b-9c1b-cf59db1aea3f",
   "metadata": {},
   "source": [
    "----\n",
    "One final thing: if the user runs the script with -h or --help, `argparse` will automatically generate a nice help message. This is where those optional `help` strings (in the `parser.add_argument` code) get used."
   ]
  },
  {
   "cell_type": "code",
   "execution_count": 7,
   "id": "f6dc4ff2-db49-4d3a-bedf-67970d7b0bdb",
   "metadata": {},
   "outputs": [
    {
     "name": "stdout",
     "output_type": "stream",
     "text": [
      "usage: python my_script.py [-h] [--model MODEL] [--prompt PROMPT]\n",
      "                           --openai_api_key OPENAI_API_KEY\n",
      "                           [--temperature TEMPERATURE]\n",
      "\n",
      "optional arguments:\n",
      "  -h, --help            show this help message and exit\n",
      "  --model MODEL         the OPENAI model you want the script to use\n",
      "  --prompt PROMPT       the prompt you want to pass into the model\n",
      "  --openai_api_key OPENAI_API_KEY\n",
      "                        Your API access key\n",
      "  --temperature TEMPERATURE\n"
     ]
    }
   ],
   "source": [
    "!python3 my_script.py -h"
   ]
  },
  {
   "cell_type": "markdown",
   "id": "983c9a5a-5cea-47c9-a2e1-98a3289696de",
   "metadata": {},
   "source": [
    "----\n",
    "That's it. Try it out and good luck!"
   ]
  }
 ],
 "metadata": {
  "kernelspec": {
   "display_name": "Python 3 (ipykernel)",
   "language": "python",
   "name": "python3"
  },
  "language_info": {
   "codemirror_mode": {
    "name": "ipython",
    "version": 3
   },
   "file_extension": ".py",
   "mimetype": "text/x-python",
   "name": "python",
   "nbconvert_exporter": "python",
   "pygments_lexer": "ipython3",
   "version": "3.9.6"
  }
 },
 "nbformat": 4,
 "nbformat_minor": 5
}
