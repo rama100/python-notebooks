{
 "cells": [
  {
   "cell_type": "markdown",
   "id": "263d6154",
   "metadata": {
    "colab_type": "text",
    "id": "view-in-github"
   },
   "source": [
    "<a href=\"https://colab.research.google.com/github/rama100/python-notebooks/blob/main/storing_related_variables.ipynb\" target=\"_parent\"><img src=\"https://colab.research.google.com/assets/colab-badge.svg\" alt=\"Open In Colab\"/></a>"
   ]
  },
  {
   "cell_type": "markdown",
   "id": "66aa1a1f-5f8e-4466-b189-255dbdba3277",
   "metadata": {},
   "source": [
    "# To store related variables (e.g., hyperparameter configs), don't use dictionaries"
   ]
  },
  {
   "cell_type": "markdown",
   "id": "6d5de727-cca6-46d3-b922-1052933ab1ed",
   "metadata": {},
   "source": [
    "**Author**: [Rama Ramakrishnan](http://ramakrishnan.com)"
   ]
  },
  {
   "cell_type": "markdown",
   "id": "b38815f9-bde6-4535-9737-b57fa77ca579",
   "metadata": {},
   "source": [
    "## Introduction\n",
    "\n",
    "\n",
    "Sometimes we want to keep a group of variables together.\n",
    "\n",
    "A common use-case in Machine Learning/Deep Learning is storing and accessing \n",
    "configuration settings (a.k.a. \"configs\") when training neural networks e.g.,\n",
    "\n",
    "```\n",
    "num_layers = 5\n",
    "num_hidden_units = 3\n",
    "activation = 'relu'\n",
    "dropout = 0.1\n",
    "```\n",
    "\n",
    "Python dictionaries are a natural way to store these name-value pairs."
   ]
  },
  {
   "cell_type": "code",
   "execution_count": 86,
   "id": "bd8f93d3-9ff3-4aaf-91aa-ce41e2c3c799",
   "metadata": {},
   "outputs": [],
   "source": [
    "config = dict(num_layers = 5,\n",
    "              num_hidden_units = 3,\n",
    "              activation = 'relu',\n",
    "              dropout = 0.1)"
   ]
  },
  {
   "cell_type": "markdown",
   "id": "00523187-5fb5-4de2-9067-a2d45aa0e085",
   "metadata": {},
   "source": [
    "To access the info stored in `config`, we can do the usual thing."
   ]
  },
  {
   "cell_type": "code",
   "execution_count": 89,
   "id": "54c3e794-cb8e-4fa3-8a66-c8cf425ecfc2",
   "metadata": {},
   "outputs": [
    {
     "data": {
      "text/plain": [
       "5"
      ]
     },
     "execution_count": 89,
     "metadata": {},
     "output_type": "execute_result"
    }
   ],
   "source": [
    "config['num_layers']"
   ]
  },
  {
   "cell_type": "markdown",
   "id": "cd853c72-3a53-4149-ac7a-aef33bccac2f",
   "metadata": {},
   "source": [
    "This works but:\n",
    "* having to type those quotes (single or double) is annoying.\n",
    "* **tab-completion** doesn't work.\n",
    "\n",
    "Both these annoyances are solved if we can use object.attribute **dot** notation e.g., ```config.num_layers``` instead of ```config['num_layers']```\n",
    "\n"
   ]
  },
  {
   "cell_type": "markdown",
   "id": "20f7b233-1874-4e62-800c-0ca79a440479",
   "metadata": {},
   "source": [
    "There are many ways to do this.\n",
    "\n",
    "Here are three that I am familiar with:\n",
    "* use a `class`\n",
    "* use a `namedtuple`\n",
    "* use a `dataclass`\n",
    "\n",
    "Let's look at a quick example of how each can be used."
   ]
  },
  {
   "cell_type": "markdown",
   "id": "1f82b3c5-a204-4aa2-8b04-3943aaac2254",
   "metadata": {},
   "source": [
    "## Solution 1: Use a `class`"
   ]
  },
  {
   "cell_type": "markdown",
   "id": "7b4ac30c-1f81-4f5b-a3e9-d26ff960b520",
   "metadata": {},
   "source": [
    "Defining a simple `class` and making each variable an attribute is probably the first thing that comes to mind, if you are familiar with Object-Oriented Programming."
   ]
  },
  {
   "cell_type": "code",
   "execution_count": 90,
   "id": "8490a329-6395-4e91-8715-95d69303e908",
   "metadata": {},
   "outputs": [],
   "source": [
    "class Config:\n",
    "    def __init__(self, num_layers, num_hidden_units, activation, dropout):\n",
    "        self.num_layers = num_layers\n",
    "        self.num_hidden_units = num_hidden_units\n",
    "        self.activation = activation\n",
    "        self.dropout = dropout"
   ]
  },
  {
   "cell_type": "markdown",
   "id": "0076b3a7-5e42-412e-b7c9-ca18b9ee7460",
   "metadata": {},
   "source": [
    "With the `Config` class defined, we can create as many configs as we want."
   ]
  },
  {
   "cell_type": "code",
   "execution_count": 111,
   "id": "c42fca0c-a296-4766-ae9f-f6d5a71442b6",
   "metadata": {},
   "outputs": [],
   "source": [
    "base_config = Config(5, 10, 'relu', 0.1)"
   ]
  },
  {
   "cell_type": "code",
   "execution_count": 112,
   "id": "9a4f3689-d391-40e4-ab04-0f07e842afc9",
   "metadata": {},
   "outputs": [],
   "source": [
    "new_config = Config(7, 12, 'tanh', 0.2)"
   ]
  },
  {
   "cell_type": "markdown",
   "id": "6241d840-aed6-4330-9021-77cf2f21247d",
   "metadata": {},
   "source": [
    "We can access the attributes using dot notation."
   ]
  },
  {
   "cell_type": "code",
   "execution_count": 113,
   "id": "6bde8e61-7edf-4512-a9bc-460206574314",
   "metadata": {},
   "outputs": [
    {
     "data": {
      "text/plain": [
       "'relu'"
      ]
     },
     "execution_count": 113,
     "metadata": {},
     "output_type": "execute_result"
    }
   ],
   "source": [
    "base_config.activation"
   ]
  },
  {
   "cell_type": "code",
   "execution_count": 114,
   "id": "81a4323d-b897-4c89-95ee-a1562fd99709",
   "metadata": {},
   "outputs": [
    {
     "data": {
      "text/plain": [
       "'tanh'"
      ]
     },
     "execution_count": 114,
     "metadata": {},
     "output_type": "execute_result"
    }
   ],
   "source": [
    "new_config.activation"
   ]
  },
  {
   "cell_type": "code",
   "execution_count": 116,
   "id": "59f11ca8-c183-4841-9d60-737509a4a057",
   "metadata": {},
   "outputs": [
    {
     "data": {
      "text/plain": [
       "10"
      ]
     },
     "execution_count": 116,
     "metadata": {},
     "output_type": "execute_result"
    }
   ],
   "source": [
    "base_config.num_hidden_units"
   ]
  },
  {
   "cell_type": "markdown",
   "id": "5469b732-0840-42c0-985c-818930f79872",
   "metadata": {},
   "source": [
    "Tab-completion works too! You can check for yourself.\n",
    "\n",
    "(I will confess that I have an unhealthy love for tab completion :))"
   ]
  },
  {
   "cell_type": "markdown",
   "id": "bec77be1-d744-4d21-87bc-e86795ff42d1",
   "metadata": {},
   "source": [
    "Another benefit: we can define the class with **defaults** for the variables."
   ]
  },
  {
   "cell_type": "code",
   "execution_count": 126,
   "id": "aeac2e6d-2b3f-4ef3-b8cb-456d2fc00f21",
   "metadata": {},
   "outputs": [],
   "source": [
    "class Config:\n",
    "    def __init__(self, num_layers, num_hidden_units, activation=\"relu\", dropout=\"0.1\"):\n",
    "        self.num_layers = num_layers\n",
    "        self.num_hidden_units = num_hidden_units\n",
    "        self.activation = activation\n",
    "        self.dropout = dropout"
   ]
  },
  {
   "cell_type": "code",
   "execution_count": 127,
   "id": "e752d69f-d4a7-47a4-87bb-1a7b6631373d",
   "metadata": {},
   "outputs": [],
   "source": [
    "config = Config(5, 10)"
   ]
  },
  {
   "cell_type": "code",
   "execution_count": 128,
   "id": "20f0dea9-9ac9-4b67-9164-3da6395bd5f8",
   "metadata": {},
   "outputs": [
    {
     "data": {
      "text/plain": [
       "'relu'"
      ]
     },
     "execution_count": 128,
     "metadata": {},
     "output_type": "execute_result"
    }
   ],
   "source": [
    "config.activation"
   ]
  },
  {
   "cell_type": "markdown",
   "id": "12ec20bd-3231-4ac1-8b6c-5a8a4d943f0f",
   "metadata": {},
   "source": [
    "Of course, since this is a full-fledged `class`, we can add methods etc. In short, lots of flexibility.\n",
    "\n",
    "One annoyance: We have to write that boilerplate __init__  method and repeat each variable name - e.g., `num_layers` - 3 times!\n",
    "\n",
    "Another annoyance: we don't get nice output if we print it."
   ]
  },
  {
   "cell_type": "code",
   "execution_count": 129,
   "id": "c2e2249a-6fa0-487b-a96f-241b7d7aa2b1",
   "metadata": {},
   "outputs": [
    {
     "name": "stdout",
     "output_type": "stream",
     "text": [
      "<__main__.Config object at 0x10977aca0>\n"
     ]
    }
   ],
   "source": [
    "print(config)"
   ]
  },
  {
   "cell_type": "markdown",
   "id": "a3dbe1d9-3b51-4e0f-b56b-d7d581c8da79",
   "metadata": {},
   "source": [
    "We don't get other useful methods out of the box either (e.g., we can't quickly check if two configs are the same).\n",
    "\n",
    "\n",
    "For all this, we will need to write some boilerplate code, which is a pain."
   ]
  },
  {
   "cell_type": "markdown",
   "id": "70d707ca-3338-4b0c-80b9-904410580e11",
   "metadata": {},
   "source": [
    "## Solution 2: Use a `namedtuple`"
   ]
  },
  {
   "cell_type": "code",
   "execution_count": 132,
   "id": "c0113cb7-4975-498a-a7fb-0b9207809d9f",
   "metadata": {},
   "outputs": [],
   "source": [
    "from collections import namedtuple"
   ]
  },
  {
   "cell_type": "code",
   "execution_count": 133,
   "id": "8093854f-1aab-42d9-ba9e-b49ee501e1c5",
   "metadata": {},
   "outputs": [],
   "source": [
    "Config = namedtuple('Config','num_layers num_hidden_units activation dropout')"
   ]
  },
  {
   "cell_type": "code",
   "execution_count": 134,
   "id": "1f2fecb9-6a8b-4d2d-86e8-ff7cccbe2b95",
   "metadata": {},
   "outputs": [],
   "source": [
    "config = Config(5,10,'relu',0.1)"
   ]
  },
  {
   "cell_type": "markdown",
   "id": "0d35063f-881d-4cb7-87b9-74eb99c03f66",
   "metadata": {},
   "source": [
    "As before, we can access all the variables using dot notation, and you can check for yourself that tab-completion works."
   ]
  },
  {
   "cell_type": "code",
   "execution_count": 135,
   "id": "c681fcd3-95ed-4a59-b5d9-cb9cfbdae675",
   "metadata": {},
   "outputs": [
    {
     "data": {
      "text/plain": [
       "'relu'"
      ]
     },
     "execution_count": 135,
     "metadata": {},
     "output_type": "execute_result"
    }
   ],
   "source": [
    "config.activation"
   ]
  },
  {
   "cell_type": "code",
   "execution_count": 136,
   "id": "67f22523-5219-4728-9825-d65c0f23f61b",
   "metadata": {},
   "outputs": [
    {
     "data": {
      "text/plain": [
       "10"
      ]
     },
     "execution_count": 136,
     "metadata": {},
     "output_type": "execute_result"
    }
   ],
   "source": [
    "config.num_hidden_units"
   ]
  },
  {
   "cell_type": "markdown",
   "id": "d328b536-8805-4b44-bdef-9990a630704e",
   "metadata": {},
   "source": [
    "We get nice output if we print it."
   ]
  },
  {
   "cell_type": "code",
   "execution_count": 137,
   "id": "7ba261d3-4864-477d-93d0-44b91da39d73",
   "metadata": {},
   "outputs": [
    {
     "name": "stdout",
     "output_type": "stream",
     "text": [
      "Config(num_layers=5, num_hidden_units=10, activation='relu', dropout=0.1)\n"
     ]
    }
   ],
   "source": [
    "print(config)"
   ]
  },
  {
   "cell_type": "markdown",
   "id": "1e54bd17-5690-4812-9b83-ac8bdc659406",
   "metadata": {},
   "source": [
    "Since a `namedtuple` is a subclass of `tuple`, we can also access its elements by indexing IF we want."
   ]
  },
  {
   "cell_type": "code",
   "execution_count": 141,
   "id": "a68822ae-2bd2-45e9-b5b7-bea16dd4cae7",
   "metadata": {},
   "outputs": [
    {
     "data": {
      "text/plain": [
       "'relu'"
      ]
     },
     "execution_count": 141,
     "metadata": {},
     "output_type": "execute_result"
    }
   ],
   "source": [
    "config[2]"
   ]
  },
  {
   "cell_type": "markdown",
   "id": "36d48c55-695b-4892-b280-cb84e9c0e935",
   "metadata": {},
   "source": [
    "`namedtuple` does have a limitation. It is **immutable** (like a Like a `tuple`).\n",
    "\n",
    "Once created, it can't be changed. If you try to, you will get an error message.\n",
    "\n",
    "For example:"
   ]
  },
  {
   "cell_type": "code",
   "execution_count": 125,
   "id": "cb146ada-1b34-4648-8be2-25624d6a5c06",
   "metadata": {},
   "outputs": [
    {
     "ename": "AttributeError",
     "evalue": "can't set attribute",
     "output_type": "error",
     "traceback": [
      "\u001b[0;31m---------------------------------------------------------------------------\u001b[0m",
      "\u001b[0;31mAttributeError\u001b[0m                            Traceback (most recent call last)",
      "Cell \u001b[0;32mIn[125], line 1\u001b[0m\n\u001b[0;32m----> 1\u001b[0m \u001b[43mconfig\u001b[49m\u001b[38;5;241;43m.\u001b[39;49m\u001b[43mactivation\u001b[49m \u001b[38;5;241m=\u001b[39m \u001b[38;5;124m\"\u001b[39m\u001b[38;5;124mtanh\u001b[39m\u001b[38;5;124m\"\u001b[39m\n",
      "\u001b[0;31mAttributeError\u001b[0m: can't set attribute"
     ]
    }
   ],
   "source": [
    "config.activation = \"tanh\""
   ]
  },
  {
   "cell_type": "markdown",
   "id": "d59f9bed-6cd2-4731-9e26-a9e874cc2979",
   "metadata": {},
   "source": [
    "\n",
    "In practice, if an element of a `namedtuple` is something you want to gradually build (say, a `list`), you should build the thing completely first and then create a `namedtuple` with it."
   ]
  },
  {
   "cell_type": "markdown",
   "id": "b9087a4b-746b-4c5c-af3c-31ae19f58c89",
   "metadata": {},
   "source": [
    "## Solution 3: Use `dataclasses`"
   ]
  },
  {
   "cell_type": "markdown",
   "id": "424f7750-4a13-454f-bfc5-cff2f319d24a",
   "metadata": {},
   "source": [
    "`dataclasses` are the newest game in town and they *are* cool."
   ]
  },
  {
   "cell_type": "code",
   "execution_count": 102,
   "id": "7cd71807-6040-4524-adb3-2f7370a2994d",
   "metadata": {},
   "outputs": [],
   "source": [
    "from dataclasses import dataclass"
   ]
  },
  {
   "cell_type": "markdown",
   "id": "07807bae-cfcc-4f8b-be58-3e2e1b5d0952",
   "metadata": {},
   "source": [
    "We do the necessary import and then define a class like we normally would, but in a much more compact way."
   ]
  },
  {
   "cell_type": "code",
   "execution_count": 144,
   "id": "78271816-79dc-425f-a3a2-02fb1841f03d",
   "metadata": {},
   "outputs": [],
   "source": [
    "@dataclass     # notice the decorator\n",
    "class Config:\n",
    "    num_layers: int\n",
    "    num_hidden_units: int\n",
    "    activation: str\n",
    "    dropout: float"
   ]
  },
  {
   "cell_type": "markdown",
   "id": "2a8cc806-eb4f-4139-8736-8bef20234418",
   "metadata": {},
   "source": [
    "Notice the `@dataclass` decorator.\n",
    "\n",
    "Nice positive: Each variable name has be written just once.\n",
    "\n",
    "We do need to provide type hints. Is that a positive or a negative? You can decide :).\n"
   ]
  },
  {
   "cell_type": "markdown",
   "id": "58edb1bd-3d73-4146-9aae-492f51e3ea59",
   "metadata": {},
   "source": [
    "As before, we can access all the variables using dot notation, and you can check for yourself that tab-completion works."
   ]
  },
  {
   "cell_type": "code",
   "execution_count": 145,
   "id": "964a2a70-bb45-4fb8-b6b8-0c4641d5d212",
   "metadata": {},
   "outputs": [],
   "source": [
    "config = Config(7,12,'sigmoid',0.1)"
   ]
  },
  {
   "cell_type": "code",
   "execution_count": 146,
   "id": "a3df38a7-fd37-4639-bab0-492cafe71e27",
   "metadata": {},
   "outputs": [
    {
     "data": {
      "text/plain": [
       "'sigmoid'"
      ]
     },
     "execution_count": 146,
     "metadata": {},
     "output_type": "execute_result"
    }
   ],
   "source": [
    "config.activation"
   ]
  },
  {
   "cell_type": "code",
   "execution_count": 147,
   "id": "282741ab-9480-40a0-b61b-225c7e39617b",
   "metadata": {},
   "outputs": [
    {
     "data": {
      "text/plain": [
       "7"
      ]
     },
     "execution_count": 147,
     "metadata": {},
     "output_type": "execute_result"
    }
   ],
   "source": [
    "config.num_layers"
   ]
  },
  {
   "cell_type": "code",
   "execution_count": 110,
   "id": "bf67c876-ebad-4131-af5b-9a4630a2e93d",
   "metadata": {},
   "outputs": [
    {
     "data": {
      "text/plain": [
       "12"
      ]
     },
     "execution_count": 110,
     "metadata": {},
     "output_type": "execute_result"
    }
   ],
   "source": [
    "config.num_hidden_units"
   ]
  },
  {
   "cell_type": "markdown",
   "id": "d2c61c89-c764-48a8-ac07-0ac4849b1b08",
   "metadata": {},
   "source": [
    "Unlike a `namedtuple`, a `dataclass` is mutable so you get more flexibility (but you can switch mutability off if you want - see the documentation).\n",
    "\n",
    "Since it is a regular `class`, we can set **defaults** for the variables as well."
   ]
  },
  {
   "cell_type": "code",
   "execution_count": 148,
   "id": "f903170e-5d3e-4288-9bf8-e515680e212b",
   "metadata": {},
   "outputs": [],
   "source": [
    "@dataclass\n",
    "class Config:\n",
    "    num_layers: int\n",
    "    num_hidden_units: int\n",
    "    activation: str = \"relu\"\n",
    "    dropout: float = 0.1"
   ]
  },
  {
   "cell_type": "code",
   "execution_count": 149,
   "id": "820d4dce-5c2b-4ab1-bc64-02eb8cc940b2",
   "metadata": {},
   "outputs": [],
   "source": [
    "config = Config(7,12)"
   ]
  },
  {
   "cell_type": "markdown",
   "id": "dbf093f1-1569-4050-a249-508fe056e22a",
   "metadata": {},
   "source": [
    "You get a nice, descriptive output when you print."
   ]
  },
  {
   "cell_type": "code",
   "execution_count": 150,
   "id": "b90038cb-f1d5-4f56-a62f-8a7d3c2a08e7",
   "metadata": {},
   "outputs": [
    {
     "name": "stdout",
     "output_type": "stream",
     "text": [
      "Config(num_layers=7, num_hidden_units=12, activation='relu', dropout=0.1)\n"
     ]
    }
   ],
   "source": [
    "print(config)"
   ]
  },
  {
   "cell_type": "markdown",
   "id": "d139a12c-5a92-4397-9c6e-a3febd34e813",
   "metadata": {},
   "source": [
    "You get some other goodies for free e.g., checking equality."
   ]
  },
  {
   "cell_type": "code",
   "execution_count": 153,
   "id": "bdeea455-0ddf-42a1-8cd0-fe0095c30909",
   "metadata": {},
   "outputs": [
    {
     "data": {
      "text/plain": [
       "True"
      ]
     },
     "execution_count": 153,
     "metadata": {},
     "output_type": "execute_result"
    }
   ],
   "source": [
    "new_config = Config(7,12)\n",
    "\n",
    "config == new_config"
   ]
  },
  {
   "cell_type": "markdown",
   "id": "ec0b2e01-a790-41c1-99e0-aa130217d1c1",
   "metadata": {},
   "source": [
    "## What I use\n",
    "\n",
    "I used `namedtuple`s a lot in the past but have switched to `dataclass` as my default choice now.\n"
   ]
  },
  {
   "cell_type": "markdown",
   "id": "b6aa09fd-6bb5-4a2c-ac46-42a7d40474f2",
   "metadata": {},
   "source": [
    "### Next steps\n",
    "\n",
    "We have just scratched the surface of what's possible. Please see the [official Python documentation](https://docs.python.org/) to learn more."
   ]
  }
 ],
 "metadata": {
  "kernelspec": {
   "display_name": "Python 3 (ipykernel)",
   "language": "python",
   "name": "python3"
  },
  "language_info": {
   "codemirror_mode": {
    "name": "ipython",
    "version": 3
   },
   "file_extension": ".py",
   "mimetype": "text/x-python",
   "name": "python",
   "nbconvert_exporter": "python",
   "pygments_lexer": "ipython3",
   "version": "3.9.6"
  }
 },
 "nbformat": 4,
 "nbformat_minor": 5
}
