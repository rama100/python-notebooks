{
 "cells": [
  {
   "cell_type": "markdown",
   "id": "8651c6f2-697f-463c-9f2e-875209ebdaf9",
   "metadata": {
    "colab_type": "text",
    "id": "view-in-github"
   },
   "source": [
    "<a href=\"https://colab.research.google.com/github/rama100/python-notebooks/blob/main/be_careful_when_passing_in_mutables.ipynb\" target=\"_parent\"><img src=\"https://colab.research.google.com/assets/colab-badge.svg\" alt=\"Open In Colab\"/></a>"
   ]
  },
  {
   "cell_type": "markdown",
   "id": "3f581460-1808-4138-bc1e-5b4ac8f5c6f4",
   "metadata": {},
   "source": [
    "# Be careful when you pass mutables like `lists`, `dicts` or `sets` into a function"
   ]
  },
  {
   "cell_type": "markdown",
   "id": "35e0bc73-cfd1-462e-ba23-46f1defc49d2",
   "metadata": {},
   "source": [
    "**Author**: [Rama Ramakrishnan](https://ramakrishnan.com)"
   ]
  },
  {
   "cell_type": "markdown",
   "id": "d49a3cca-79fa-4cb9-9a83-fdfde70aa010",
   "metadata": {},
   "source": [
    "**Intro**\n",
    "\n",
    "Let's say you pass a variable `x` into a function and modify it inside the function.\n",
    "\n",
    "For example:\n",
    "\n",
    "```\n",
    "def do_stuff(x):\n",
    "    x = x + 1\n",
    "    print(x)\n",
    "\n",
    "```\n",
    "\n",
    "\n",
    "```\n",
    "def do_stuff(l):\n",
    "    l.append(10)\n",
    "    print(l)\n",
    "\n",
    "```\n",
    "\n",
    "\n",
    "\n",
    "```\n",
    "def do_stuff(l):\n",
    "    y = l\n",
    "    y.append(10)\n",
    "    print(f\"l = {l}, y = {y}\")\n",
    "\n",
    "```\n",
    "\n",
    "\n",
    "\n",
    "```\n",
    "def do_stuff(l):\n",
    "    l = l + [3,4]\n",
    "    print(l)\n",
    "\n",
    "```\n",
    "\n",
    "\n",
    "\n",
    "```\n",
    "def do_stuff(l):\n",
    "    l += [3,4]\n",
    "    print(l)\n",
    "\n",
    "```\n",
    "\n",
    "**In these examples, what happens to the original variable that you passed in? Will it be unchanged or will it be modified?**\n",
    "\n",
    "If you are familiar with this stuff, feel free to pause for a second to think about this before reading on :).\n",
    "\n",
    "\n",
    "**TLDR**\n",
    "\n",
    "1. If the object is **immutable** (e.g., int, float, str, tuple), **the original variable will NOT be modified**.\n",
    "2. If the object is **mutable** (e.g., list, dict, set) and the modification is an **in-place operation** , **the original object WILL be modified**.\n",
    "\n",
    "Let's check this on the examples."
   ]
  },
  {
   "cell_type": "markdown",
   "id": "35a4532e-64eb-415b-bcba-0107f56e7f64",
   "metadata": {},
   "source": [
    "## Example #1"
   ]
  },
  {
   "cell_type": "code",
   "execution_count": 108,
   "id": "134ac945-638a-4153-bfae-080006586631",
   "metadata": {},
   "outputs": [],
   "source": [
    "def do_stuff(x):\n",
    "    x = x + 1    \n",
    "    print(x)"
   ]
  },
  {
   "cell_type": "markdown",
   "id": "c42977ab-b0c5-440f-bef4-1f97eaaee1c4",
   "metadata": {},
   "source": [
    "Let's initialize a variable ..."
   ]
  },
  {
   "cell_type": "code",
   "execution_count": 109,
   "id": "5fd547fa-1f25-4b42-b972-f5cfced701c1",
   "metadata": {},
   "outputs": [],
   "source": [
    "a = 1"
   ]
  },
  {
   "cell_type": "markdown",
   "id": "9fa7f3e2-968c-4117-9283-177c1d5a7209",
   "metadata": {},
   "source": [
    "... and run it through the function."
   ]
  },
  {
   "cell_type": "code",
   "execution_count": 110,
   "id": "194dd4b8-d7a6-4486-b8ba-5e3e817e3e6c",
   "metadata": {},
   "outputs": [
    {
     "name": "stdout",
     "output_type": "stream",
     "text": [
      "2\n"
     ]
    }
   ],
   "source": [
    "do_stuff(a)"
   ]
  },
  {
   "cell_type": "markdown",
   "id": "14fff55b-aa2e-4d51-bb9b-632fe96a87ee",
   "metadata": {},
   "source": [
    "Has `a` changed?"
   ]
  },
  {
   "cell_type": "code",
   "execution_count": 111,
   "id": "d4b37aef-17ad-479d-918c-4b499a55c34b",
   "metadata": {},
   "outputs": [
    {
     "data": {
      "text/plain": [
       "1"
      ]
     },
     "execution_count": 111,
     "metadata": {},
     "output_type": "execute_result"
    }
   ],
   "source": [
    "a"
   ]
  },
  {
   "cell_type": "markdown",
   "id": "edb6756d-21f9-4e6b-b954-0f2f78aa7bc3",
   "metadata": {},
   "source": [
    "`a` is just an `int` so it is immutable. Therefore, according to TLDR #1, its value should not change. \n",
    "\n",
    "It did not. Good!"
   ]
  },
  {
   "cell_type": "markdown",
   "id": "fe89ac3c-773d-4b43-822c-d2cbdeda8aef",
   "metadata": {},
   "source": [
    "## Example #2"
   ]
  },
  {
   "cell_type": "code",
   "execution_count": 115,
   "id": "2f1f51e9-1c22-4ad9-8b00-e58ffa5e063c",
   "metadata": {},
   "outputs": [],
   "source": [
    "def do_stuff(l):\n",
    "    l.append(10)\n",
    "    print(l)"
   ]
  },
  {
   "cell_type": "code",
   "execution_count": 116,
   "id": "8c5ed524-c1ff-4555-97da-9fe92420904b",
   "metadata": {},
   "outputs": [],
   "source": [
    "a = [1,2]"
   ]
  },
  {
   "cell_type": "code",
   "execution_count": 117,
   "id": "64c21e5c-79ca-4d1e-866d-7fc0218c68a8",
   "metadata": {},
   "outputs": [
    {
     "name": "stdout",
     "output_type": "stream",
     "text": [
      "[1, 2, 10]\n"
     ]
    }
   ],
   "source": [
    "do_stuff(a)"
   ]
  },
  {
   "cell_type": "markdown",
   "id": "6efd230d-7ca7-47a8-959b-f8bd4e5e5b73",
   "metadata": {},
   "source": [
    "Has `a` changed?"
   ]
  },
  {
   "cell_type": "code",
   "execution_count": 118,
   "id": "7e1d2ef6-eee5-4073-b0f2-ae81795e153f",
   "metadata": {},
   "outputs": [
    {
     "data": {
      "text/plain": [
       "[1, 2, 10]"
      ]
     },
     "execution_count": 118,
     "metadata": {},
     "output_type": "execute_result"
    }
   ],
   "source": [
    "a"
   ]
  },
  {
   "cell_type": "markdown",
   "id": "daf3e6fa-7527-4715-826a-1f1ce81f85ee",
   "metadata": {},
   "source": [
    "Since `a` here is a `list` (which is mutable), according to TLDR #2, `a`'s value *should* change and it did!"
   ]
  },
  {
   "cell_type": "markdown",
   "id": "f0720d34-c0d8-4c1b-91ad-a45fdaf54627",
   "metadata": {},
   "source": [
    "## Example #3"
   ]
  },
  {
   "cell_type": "code",
   "execution_count": 125,
   "id": "4a504559-f269-4e2c-8e07-55442a116c66",
   "metadata": {},
   "outputs": [],
   "source": [
    "def do_stuff(l):\n",
    "    y = l\n",
    "    y.append(10)\n",
    "    print(f\"l = {l}, y = {y}\")"
   ]
  },
  {
   "cell_type": "code",
   "execution_count": 124,
   "id": "265c6c6b-b222-4b7a-baa6-6e06fbfc75ef",
   "metadata": {},
   "outputs": [],
   "source": [
    "a = [1, 2]"
   ]
  },
  {
   "cell_type": "code",
   "execution_count": 126,
   "id": "8f1def8f-90bb-4907-aeac-fc72c9c226ef",
   "metadata": {},
   "outputs": [
    {
     "name": "stdout",
     "output_type": "stream",
     "text": [
      "l = [1, 2, 10], y = [1, 2, 10]\n"
     ]
    }
   ],
   "source": [
    "do_stuff(a)"
   ]
  },
  {
   "cell_type": "code",
   "execution_count": 127,
   "id": "090be30d-c680-4a44-964a-984dbfcb604c",
   "metadata": {},
   "outputs": [
    {
     "data": {
      "text/plain": [
       "[1, 2, 10]"
      ]
     },
     "execution_count": 127,
     "metadata": {},
     "output_type": "execute_result"
    }
   ],
   "source": [
    "a"
   ]
  },
  {
   "cell_type": "markdown",
   "id": "0e6fbe7a-5ffa-4cf1-bee8-3c04dd0e9c28",
   "metadata": {},
   "source": [
    "What happened here?\n",
    "* After we execute `y = l`, they are both pointing to the memory location that `a` is pointing to.\n",
    "* After we execute `y.append(10)`, since `append` is an *in-place operation*, `10` gets appended to whatever is in the location that `a`, `l` and `y` are all pointing to.\n",
    "\n",
    "As a result, when we print `a`, `l` and `y`, we get the same output."
   ]
  },
  {
   "cell_type": "markdown",
   "id": "ae76d831-b755-4532-a2fb-3e07fcb8d94a",
   "metadata": {},
   "source": [
    "## Example #4"
   ]
  },
  {
   "cell_type": "code",
   "execution_count": 119,
   "id": "81437c10-c41d-47b8-8d9b-011744919a66",
   "metadata": {},
   "outputs": [],
   "source": [
    "def do_stuff(l):\n",
    "    l = l + [3,4]\n",
    "    print(l)"
   ]
  },
  {
   "cell_type": "code",
   "execution_count": 120,
   "id": "40e5e080-9cb6-4f57-aa19-e3e1ea577160",
   "metadata": {},
   "outputs": [],
   "source": [
    "a = [1, 2]"
   ]
  },
  {
   "cell_type": "code",
   "execution_count": 121,
   "id": "29f1cabd-9dbe-4c5e-9cae-ccf50d4da14f",
   "metadata": {},
   "outputs": [
    {
     "name": "stdout",
     "output_type": "stream",
     "text": [
      "[1, 2, 3, 4]\n"
     ]
    }
   ],
   "source": [
    "do_stuff(a)"
   ]
  },
  {
   "cell_type": "markdown",
   "id": "6647b421-f734-42cb-8acf-0c704a366455",
   "metadata": {},
   "source": [
    "Will `a` change?"
   ]
  },
  {
   "cell_type": "code",
   "execution_count": 122,
   "id": "2b29795d-83a2-4fdf-a84b-07546b81b748",
   "metadata": {},
   "outputs": [
    {
     "data": {
      "text/plain": [
       "[1, 2]"
      ]
     },
     "execution_count": 122,
     "metadata": {},
     "output_type": "execute_result"
    }
   ],
   "source": [
    "a"
   ]
  },
  {
   "cell_type": "markdown",
   "id": "059ea979-7d3f-44e9-ad44-94ab1d36e261",
   "metadata": {},
   "source": [
    "It doesn't even though `a` is a mutable because the operation `l = l + [3,4]` is **not** an in-place operation like `append`.\n"
   ]
  },
  {
   "cell_type": "markdown",
   "id": "2a18b4eb-9840-4f0f-9dea-f8c6b6a9b1b6",
   "metadata": {},
   "source": [
    "## Example #5"
   ]
  },
  {
   "cell_type": "code",
   "execution_count": 132,
   "id": "b8d662ed-40b4-4be1-9d6e-d65285dc1934",
   "metadata": {},
   "outputs": [],
   "source": [
    "def do_stuff(l):\n",
    "    l += [3,4]\n",
    "    print(l)"
   ]
  },
  {
   "cell_type": "code",
   "execution_count": 133,
   "id": "f204edb8-fa40-49db-b4b7-548f82c3b134",
   "metadata": {},
   "outputs": [],
   "source": [
    "a = [1, 2]"
   ]
  },
  {
   "cell_type": "code",
   "execution_count": 134,
   "id": "df7b3a96-df0a-4dde-b18e-16e710031a50",
   "metadata": {},
   "outputs": [
    {
     "name": "stdout",
     "output_type": "stream",
     "text": [
      "[1, 2, 3, 4]\n"
     ]
    }
   ],
   "source": [
    "do_stuff(a)"
   ]
  },
  {
   "cell_type": "code",
   "execution_count": 135,
   "id": "f9d17d71-3655-4672-9332-f0cad21941c7",
   "metadata": {},
   "outputs": [
    {
     "data": {
      "text/plain": [
       "[1, 2, 3, 4]"
      ]
     },
     "execution_count": 135,
     "metadata": {},
     "output_type": "execute_result"
    }
   ],
   "source": [
    "a"
   ]
  },
  {
   "cell_type": "markdown",
   "id": "06540a2e-9ab6-49c1-859d-6357abd115bb",
   "metadata": {},
   "source": [
    "Whoa! What happened? How come `a` changed in this example even though it did not in Example #4?\n",
    "\n",
    "Turns out `l = l + [3,4]` and `l += [3,4]` are not the same. `l += [3,4]` is an **in-place operation** but `l = l + [3,4]` is **not**.  That's why `a` changed in this example but was unchanged in Example #4.\n"
   ]
  },
  {
   "cell_type": "markdown",
   "id": "b4b3f231-3714-4a88-929c-f740945a2a10",
   "metadata": {},
   "source": [
    "---\n",
    "\n",
    "I hope that was helpful. Good luck!\n",
    "\n",
    "---"
   ]
  }
 ],
 "metadata": {
  "kernelspec": {
   "display_name": "Python 3 (ipykernel)",
   "language": "python",
   "name": "python3"
  },
  "language_info": {
   "codemirror_mode": {
    "name": "ipython",
    "version": 3
   },
   "file_extension": ".py",
   "mimetype": "text/x-python",
   "name": "python",
   "nbconvert_exporter": "python",
   "pygments_lexer": "ipython3",
   "version": "3.9.6"
  }
 },
 "nbformat": 4,
 "nbformat_minor": 5
}
