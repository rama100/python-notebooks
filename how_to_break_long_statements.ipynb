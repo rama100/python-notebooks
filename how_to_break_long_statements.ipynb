{
 "cells": [
  {
   "cell_type": "markdown",
   "id": "eddc4f84-ae6f-4f5d-bcf2-99eb88f853cc",
   "metadata": {},
   "source": [
    "<a href=\"https://colab.research.google.com/github/rama100/python-notebooks/blob/main/how_to_break_long_statements.ipynb\" target=\"_parent\"><img src=\"https://colab.research.google.com/assets/colab-badge.svg\" alt=\"Open In Colab\"/></a>"
   ]
  },
  {
   "cell_type": "markdown",
   "id": "f1a61a5e-f96a-4f7f-a64a-17564e18710a",
   "metadata": {},
   "source": [
    "# Find long Python statements annoying? Here's how to break them up."
   ]
  },
  {
   "cell_type": "markdown",
   "id": "8c91d58f-67ce-4962-8d31-a78f9173a940",
   "metadata": {},
   "source": [
    "**Author**: [Rama Ramakrishnan](http://ramakrishnan.com)"
   ]
  },
  {
   "cell_type": "markdown",
   "id": "11c78904-dca5-4d06-94db-fed37d6eb8da",
   "metadata": {},
   "source": [
    "## Intro\n",
    "\n",
    "I find long Python statements annoying. I would try to break it up across multiple lines but it was hit or miss - sometimes it would work and sometimes Python would complain. After reading and experimenting a bunch, I **think** 🤞 I finally have a clear idea of when I can safely hit Enter in the middle of a line."
   ]
  },
  {
   "cell_type": "markdown",
   "id": "ee1de11a-7c25-4254-8afa-e60ef1cbdd4e",
   "metadata": {},
   "source": [
    "## Intuition\n",
    "\n",
    "When you hit Enter after typing something, Python has to figure out if you are done with the statement or not.\n",
    "- If it thinks you are done, it will execute the statement\n",
    "- If it think you are not done, it will wait for you to continue typing.\n",
    "\n",
    "Therefore, if you want to hit Enter and continue typing on the next line, you need to tell Python that you are not done.\n",
    "\n",
    "This is how."
   ]
  },
  {
   "cell_type": "markdown",
   "id": "96f35ad2-a079-4537-9c25-a75ee6958241",
   "metadata": {},
   "source": [
    "## TLDR\n",
    "\n",
    "1. Whenever you want to go to the next line, type ` \\ ` just before you hit Enter. Python will accept it happily and hold off from executing anything.\n",
    "\n",
    "But remembering to type `\\` at the end of every line can be a bit of a pain. Happily, Python provides an alternative.\n",
    "\n",
    "2. You can hit Enter **without** typing `\\`\n",
    "  - if you are between `(` , `[` or `{` and its matching `)` , `]` or `}` **AND**\n",
    "  - you are *not* in the middle of a single or double-quoted string.\n",
    "\n",
    "(I know this is a bit confusing - examples coming shortly)\n",
    "\n",
    "And finally, there is a super-lazy special case.\n",
    "\n",
    "3. If you are in the middle of a *triple*-quoted string, hit Enter anytime you feel like.\n",
    "  \n",
    "\n",
    "\n",
    "I will demonstrate this with a few examples."
   ]
  },
  {
   "cell_type": "markdown",
   "id": "2ae9f29b-edf1-4e01-a1b9-9a05c89a4943",
   "metadata": {},
   "source": [
    "## 1. Whenever you want to go to the next line, type ` \\ ` just before you hit Enter\n"
   ]
  },
  {
   "cell_type": "markdown",
   "id": "33a8d66b-fe44-42d4-ba10-faef8530dff9",
   "metadata": {},
   "source": [
    "Intuitively, when `\\` and Enter are right next to each other, you can think of them as \"cancelling each other out\".\n"
   ]
  },
  {
   "cell_type": "code",
   "execution_count": 151,
   "id": "4f10fbe1-8201-4aaf-82a8-f389a5197207",
   "metadata": {},
   "outputs": [
    {
     "data": {
      "text/plain": [
       "'This is a test of the emergency warning system.'"
      ]
     },
     "execution_count": 151,
     "metadata": {},
     "output_type": "execute_result"
    }
   ],
   "source": [
    "message = \"This is a test of \\\n",
    "the emergency warning \\\n",
    "system.\"\n",
    "\n",
    "message"
   ]
  },
  {
   "cell_type": "markdown",
   "id": "b706d662-183a-403c-b541-0b34d8bdceca",
   "metadata": {},
   "source": [
    "Let's try another example."
   ]
  },
  {
   "cell_type": "code",
   "execution_count": 153,
   "id": "0226523e-a888-48ba-9e4b-b69d0c509e10",
   "metadata": {},
   "outputs": [],
   "source": [
    "x = 25 + \\\n",
    "3"
   ]
  },
  {
   "cell_type": "code",
   "execution_count": 154,
   "id": "68001709-7620-4143-9324-8b387eead4e4",
   "metadata": {},
   "outputs": [
    {
     "data": {
      "text/plain": [
       "28"
      ]
     },
     "execution_count": 154,
     "metadata": {},
     "output_type": "execute_result"
    }
   ],
   "source": [
    "x"
   ]
  },
  {
   "cell_type": "markdown",
   "id": "0c8f712d-3027-470f-ad80-dcddd7d2e464",
   "metadata": {},
   "source": [
    "Another example."
   ]
  },
  {
   "cell_type": "code",
   "execution_count": 155,
   "id": "18e953c4-fa50-44ae-9319-a0b9ac481b4e",
   "metadata": {},
   "outputs": [],
   "source": [
    "x = 25 + 5 \\\n",
    "       * 10"
   ]
  },
  {
   "cell_type": "code",
   "execution_count": 156,
   "id": "f747f445-c5bd-4cb5-adab-002a9e03147f",
   "metadata": {},
   "outputs": [
    {
     "data": {
      "text/plain": [
       "75"
      ]
     },
     "execution_count": 156,
     "metadata": {},
     "output_type": "execute_result"
    }
   ],
   "source": [
    "x"
   ]
  },
  {
   "cell_type": "markdown",
   "id": "c2c171ef-faf7-4889-9a7c-ebe727a8c816",
   "metadata": {},
   "source": [
    "Let's try a longer one."
   ]
  },
  {
   "cell_type": "code",
   "execution_count": 172,
   "id": "93249e15-7c34-455b-8f69-f331a857e525",
   "metadata": {},
   "outputs": [],
   "source": [
    "import math"
   ]
  },
  {
   "cell_type": "code",
   "execution_count": 174,
   "id": "732a3ba5-5ac5-436f-a371-74d1a61757f0",
   "metadata": {},
   "outputs": [
    {
     "name": "stdout",
     "output_type": "stream",
     "text": [
      "56196.817198936886\n"
     ]
    }
   ],
   "source": [
    "result = 239**2 + math.sqrt(389) - 238 * 928 / 234 + math.cos(384/238)\n",
    "\n",
    "print(result)"
   ]
  },
  {
   "cell_type": "code",
   "execution_count": 176,
   "id": "10c30108-c82d-42e2-9633-1f5ca968a431",
   "metadata": {},
   "outputs": [
    {
     "name": "stdout",
     "output_type": "stream",
     "text": [
      "56196.817198936886\n"
     ]
    }
   ],
   "source": [
    "result = 239**2            + \\\n",
    "         math.sqrt(389)    - \\\n",
    "         238 * 928 / 234   + \\\n",
    "         math.cos(384/238)\n",
    "\n",
    "print(result)"
   ]
  },
  {
   "cell_type": "markdown",
   "id": "4e3907b3-578f-4aca-a01a-82a1291be56c",
   "metadata": {},
   "source": [
    "Good!"
   ]
  },
  {
   "cell_type": "markdown",
   "id": "b84a37ce-e449-467c-995d-6feb79b4ce0c",
   "metadata": {},
   "source": [
    "\n",
    "---\n",
    "BTW, the trick of ending a line with `\\` is not just for Python. It also works for breaking up long commands on the Linux/MacOS command-line as well. You may have seen something like this e.g.,\n",
    "\n",
    "```\n",
    "python3 my_script.py \\\n",
    " --model gpt-4.5 \\\n",
    " --question \"what is the capital of paris\" \\\n",
    " --openai_api_key 'sk-....' \\\n",
    " --temperature 0.8\n",
    "```\n",
    "\n",
    "---"
   ]
  },
  {
   "cell_type": "markdown",
   "id": "27a6653e-79e7-4798-88e8-757f209fe0e8",
   "metadata": {},
   "source": [
    "## 2. Hit Enter without typing \\ if you are between `(` , `[` or `{` and its matching `)` , `]` or `}` and you are **not** in the middle of a single or double-quoted string.\n",
    "\n",
    "You get this \"for free\" when\n",
    "  - defining a list or a set or a dict\n",
    "  - writing a function call \n",
    "  - writing a list/dictionary/set comprehension\n",
    "  - writing a generator expression \n",
    "\n",
    "Let's look at some examples."
   ]
  },
  {
   "cell_type": "code",
   "execution_count": 178,
   "id": "4dc33f53-d2ec-4e5d-a018-1167280da9b3",
   "metadata": {},
   "outputs": [],
   "source": [
    "config = {'num_layers' : 5, 'num_hidden_units' : 3, 'activation' : 'relu', 'dropout' : 0.5, 'learning_rate' : 1e-4}"
   ]
  },
  {
   "cell_type": "markdown",
   "id": "5c5da097-802d-4979-8cdb-1ddb50d59e68",
   "metadata": {},
   "source": [
    "We can split this up anywhere after the opening `{` but before the closing `}`."
   ]
  },
  {
   "cell_type": "code",
   "execution_count": 160,
   "id": "472f538e-5ce0-4fc3-a41e-7f1a2a43238f",
   "metadata": {},
   "outputs": [],
   "source": [
    "config = {'num_layers' : 5, \n",
    "          'num_hidden_units' : 3, \n",
    "          'activation' : 'relu', \n",
    "          'dropout' : 0.5, \n",
    "          'learning_rate' : 1e-4}"
   ]
  },
  {
   "cell_type": "markdown",
   "id": "003b2130-2a1e-47b4-9f0c-21758949ec84",
   "metadata": {},
   "source": [
    "I have split it up neatly but you can split it ANYWHERE (as long as you are **not** in the middle of a single or double-quoted string)."
   ]
  },
  {
   "cell_type": "code",
   "execution_count": 161,
   "id": "5db0eb02-22fe-49ae-bda4-05e71c0ccbd8",
   "metadata": {},
   "outputs": [],
   "source": [
    "config = {'num_layers' : \n",
    "          5, \n",
    "          'num_hidden_units' \n",
    "          : 3, \n",
    "          'activation' \n",
    "          : 'relu', \n",
    "          'dropout' : 0.5\n",
    "          , \n",
    "          'learning_rate' : 1e-4}"
   ]
  },
  {
   "cell_type": "markdown",
   "id": "65af8948-bac6-482b-bb58-a7268fc079c8",
   "metadata": {},
   "source": [
    "PSA: Please don't write statements like the one above. Your future self will not forgive you :)."
   ]
  },
  {
   "cell_type": "markdown",
   "id": "393647c5-142e-42ca-b719-75eadf0ce601",
   "metadata": {},
   "source": [
    "---\n",
    "\n",
    "What we did with `{` above, we can do the same with `[` and split up lists and list comprehensions across lines. \n",
    "\n",
    "\n",
    "```\n",
    "valid_values = [value\n",
    "                for item in items\n",
    "                for value in item.values\n",
    "                if item.status == \"valid\"]\n",
    "```\n",
    "\n",
    "Similarly for set and dictionary comprehensions.\n",
    "\n",
    "---\n",
    "\n",
    "We can do the same with `(`. \n",
    "\n",
    "* Since **function calls** naturally have a `(`, we can split safely.\n",
    "\n",
    "```\n",
    "call_LLM(prompt,\n",
    "         temperature=0.7,\n",
    "         top_p=0.9,\n",
    "         max_tokens=100)\n",
    "```\n",
    "\n",
    "\n",
    "* Since **generator expressions** have a `(`, we can split them safely.\n",
    "\n",
    "```\n",
    "max(value\n",
    "    for item in items\n",
    "    for value in item.values\n",
    "    if item.status == \"valid\")\n",
    "```"
   ]
  },
  {
   "cell_type": "markdown",
   "id": "ef2953f1-fdd5-46b1-8d82-d9e94d4cdfec",
   "metadata": {},
   "source": [
    "---\n",
    "**Best of all: If you deliberately enclose long expressions inside `(` and `)`, you can split them across lines.**\n",
    "\n",
    "For example, the following will generate an error\n",
    "\n",
    "```\n",
    "x = 10 + \n",
    "    4\n",
    "```\n",
    "\n",
    "but if you wrap it in `(` and `)`, it will work fine."
   ]
  },
  {
   "cell_type": "code",
   "execution_count": 162,
   "id": "cceb13ae-588c-40bd-8086-be2dd19073b1",
   "metadata": {},
   "outputs": [
    {
     "data": {
      "text/plain": [
       "14"
      ]
     },
     "execution_count": 162,
     "metadata": {},
     "output_type": "execute_result"
    }
   ],
   "source": [
    "x = (10 + \n",
    "    4)\n",
    "x"
   ]
  },
  {
   "cell_type": "markdown",
   "id": "aeb663fb-135e-4d34-8bcf-823673ee5937",
   "metadata": {},
   "source": [
    "Recall the example from earlier ...\n",
    "\n",
    "```\n",
    "result = 239**2 + math.sqrt(389) - 238 * 928 / 234 + math.cos(384/238)\n",
    "```\n",
    "\n",
    "... that we changed to \n",
    "\n",
    "```\n",
    "result = 239**2            + \\\n",
    "         math.sqrt(389)    - \\\n",
    "         238 * 928 / 234   + \\\n",
    "         math.cos(384/238)\n",
    "```\n",
    "\n",
    "It worked correctly. \n",
    "\n",
    "As an alternative, we can wrap this with `(` and `)`."
   ]
  },
  {
   "cell_type": "code",
   "execution_count": 177,
   "id": "f30d7e60-7b5d-4ba7-a50f-0d80a0662ee6",
   "metadata": {},
   "outputs": [
    {
     "name": "stdout",
     "output_type": "stream",
     "text": [
      "56196.817198936886\n"
     ]
    }
   ],
   "source": [
    "result = ( 239**2             + \n",
    "           math.sqrt(389)     - \n",
    "           238 * 928 / 234    + \n",
    "           math.cos(384/238))\n",
    "\n",
    "print(result)"
   ]
  },
  {
   "cell_type": "markdown",
   "id": "1f0e2ac2-e060-440f-837a-e4ff9eaf103a",
   "metadata": {},
   "source": [
    " Of course, the caveat from before applies. If you hit Enter in the middle of a single or double quoted string, Python will compain."
   ]
  },
  {
   "cell_type": "code",
   "execution_count": 163,
   "id": "5ded618f-60db-42e7-9348-ce8e0cb24d8a",
   "metadata": {},
   "outputs": [
    {
     "ename": "SyntaxError",
     "evalue": "EOL while scanning string literal (3103584001.py, line 1)",
     "output_type": "error",
     "traceback": [
      "\u001b[0;36m  Cell \u001b[0;32mIn[163], line 1\u001b[0;36m\u001b[0m\n\u001b[0;31m    s = (\"This is a\u001b[0m\n\u001b[0m                    ^\u001b[0m\n\u001b[0;31mSyntaxError\u001b[0m\u001b[0;31m:\u001b[0m EOL while scanning string literal\n"
     ]
    }
   ],
   "source": [
    "s = (\"This is a \n",
    "     test\")"
   ]
  },
  {
   "cell_type": "markdown",
   "id": "12ec0e1c-b9f0-4e12-a3f6-fd4d0f449c9f",
   "metadata": {},
   "source": [
    "## 3. Hit Enter without typing `\\` if you are in the middle of a *triple*-quoted string."
   ]
  },
  {
   "cell_type": "code",
   "execution_count": 158,
   "id": "a3b6ecb5-b574-49e1-aa52-5a5ee246d4ee",
   "metadata": {},
   "outputs": [
    {
     "name": "stdout",
     "output_type": "stream",
     "text": [
      "This is a test of the \n",
      "emergency warning \n",
      "system.\n"
     ]
    }
   ],
   "source": [
    "message = \"\"\"This is a test of the \n",
    "emergency warning \n",
    "system.\"\"\"\n",
    "\n",
    "print(message)"
   ]
  },
  {
   "cell_type": "markdown",
   "id": "a552c2f7-5ee0-4688-b2ee-2f5191744dd5",
   "metadata": {},
   "source": [
    "## Bonus"
   ]
  },
  {
   "cell_type": "markdown",
   "id": "f20594bb-a664-4761-a472-784102f48a73",
   "metadata": {},
   "source": [
    "Let's go back to the first example we saw."
   ]
  },
  {
   "cell_type": "code",
   "execution_count": 128,
   "id": "ec514168-ce17-4ce6-a036-7d5469e519d2",
   "metadata": {},
   "outputs": [],
   "source": [
    "message = \"This is a test of \\\n",
    "the emergency warning \\\n",
    "system.\""
   ]
  },
  {
   "cell_type": "markdown",
   "id": "021b415d-f108-4959-a7f7-230e44cacb18",
   "metadata": {},
   "source": [
    "Are you a bit annoyed that the three lines above aren't nicely **left aligned**?\n",
    "\n",
    "Here's a fix that uses the `(` trick from above."
   ]
  },
  {
   "cell_type": "code",
   "execution_count": 129,
   "id": "ed9b06e4-eb2f-49df-8c9a-1150c0672b4e",
   "metadata": {},
   "outputs": [],
   "source": [
    "message = (\"This is a test of \"\n",
    "           \"the emergency warning \"\n",
    "           \"system.\" )"
   ]
  },
  {
   "cell_type": "code",
   "execution_count": 130,
   "id": "f1fef587-7f84-4f55-9b11-d18060599f65",
   "metadata": {},
   "outputs": [
    {
     "data": {
      "text/plain": [
       "'This is a test of the emergency warning system.'"
      ]
     },
     "execution_count": 130,
     "metadata": {},
     "output_type": "execute_result"
    }
   ],
   "source": [
    "message"
   ]
  },
  {
   "cell_type": "markdown",
   "id": "e70c62bd-df9b-4b27-9399-8edfa3a11ce8",
   "metadata": {},
   "source": [
    "It is quite neat why this works. \n",
    "\n",
    "First, because of the `(`, Python ignores our two Enters. \n",
    "\n",
    "With the Enters ignored, the above looks like:"
   ]
  },
  {
   "cell_type": "raw",
   "id": "4a37a43f-150c-41a1-8fa9-2b441a68d548",
   "metadata": {},
   "source": [
    "message = (\"This is a test of \" \"the emergency warning \" \"system.\")"
   ]
  },
  {
   "cell_type": "markdown",
   "id": "65a74cfa-b785-4925-bf7f-ce91a563d8fd",
   "metadata": {},
   "source": [
    "**Turns out when Python sees a bunch of strings one after the other, it automatically concatenates them** i.e., it does this:\n",
    "\n",
    "```\n",
    "message = (\"This is a test of the emergency warning system.\")\n",
    "\n",
    "```\n",
    "\n",
    "Finally, it evaluates `\"This is a test of the emergency warning system.\"` and assigns it to `message`."
   ]
  },
  {
   "cell_type": "code",
   "execution_count": 91,
   "id": "dc924f17-00b0-4d9d-93b1-36390e8beb27",
   "metadata": {},
   "outputs": [
    {
     "data": {
      "text/plain": [
       "'This is a test of the emergency warning system.'"
      ]
     },
     "execution_count": 91,
     "metadata": {},
     "output_type": "execute_result"
    }
   ],
   "source": [
    "message"
   ]
  },
  {
   "cell_type": "markdown",
   "id": "f678f666-a980-44af-8572-abdfc6add8e2",
   "metadata": {
    "jp-MarkdownHeadingCollapsed": true
   },
   "source": [
    "Nice, right?"
   ]
  },
  {
   "cell_type": "markdown",
   "id": "b2c6bce9-80d6-42e1-b338-647291b8c2fc",
   "metadata": {},
   "source": [
    "## TLDR Again\n",
    "\n",
    "\n",
    "1. Type ` \\ ` just before you hit Enter. \n",
    "\n",
    "\n",
    "2. Hit Enter **without** typing `\\`\n",
    "  - if you are between `(` , `[` or `{` and its matching `)` , `]` or `}` **AND**\n",
    "  - you are *not* in the middle of a single or double-quoted string.\n",
    "\n",
    "\n",
    "3. Hit Enter **without** typing `\\` if you are in the middle of a *triple*-quoted string.\n",
    "  \n"
   ]
  },
  {
   "cell_type": "markdown",
   "id": "d3c6ec91-8bfe-4231-aa0d-45fd789ca9d0",
   "metadata": {},
   "source": [
    "---\n",
    "\n",
    "I hope you found that useful. If you spot any errors, please email me: ![email](email.png)\n",
    "\n",
    "---"
   ]
  },
  {
   "cell_type": "code",
   "execution_count": null,
   "id": "488df4a4-3d1e-47f0-b103-ec2673f54f32",
   "metadata": {},
   "outputs": [],
   "source": []
  }
 ],
 "metadata": {
  "kernelspec": {
   "display_name": "Python 3 (ipykernel)",
   "language": "python",
   "name": "python3"
  },
  "language_info": {
   "codemirror_mode": {
    "name": "ipython",
    "version": 3
   },
   "file_extension": ".py",
   "mimetype": "text/x-python",
   "name": "python",
   "nbconvert_exporter": "python",
   "pygments_lexer": "ipython3",
   "version": "3.9.6"
  }
 },
 "nbformat": 4,
 "nbformat_minor": 5
}
